{
 "cells": [
  {
   "cell_type": "markdown",
   "metadata": {},
   "source": [
    "# Модель распознавания изображения Георгия Победоносца на фотографиях"
   ]
  },
  {
   "cell_type": "code",
   "execution_count": 1,
   "metadata": {},
   "outputs": [],
   "source": [
    "import numpy as np\n",
    "import pandas as pd\n",
    "import tensorflow as tf"
   ]
  },
  {
   "cell_type": "markdown",
   "metadata": {},
   "source": [
    "## 1. Обработка данных\n",
    "\n",
    "По заданию данные представлялись в виде ссылок на фотографии в интернете."
   ]
  },
  {
   "cell_type": "code",
   "execution_count": 2,
   "metadata": {},
   "outputs": [
    {
     "data": {
      "text/html": [
       "<div>\n",
       "<style scoped>\n",
       "    .dataframe tbody tr th:only-of-type {\n",
       "        vertical-align: middle;\n",
       "    }\n",
       "\n",
       "    .dataframe tbody tr th {\n",
       "        vertical-align: top;\n",
       "    }\n",
       "\n",
       "    .dataframe thead th {\n",
       "        text-align: right;\n",
       "    }\n",
       "</style>\n",
       "<table border=\"1\" class=\"dataframe\">\n",
       "  <thead>\n",
       "    <tr style=\"text-align: right;\">\n",
       "      <th></th>\n",
       "      <th>pictures</th>\n",
       "    </tr>\n",
       "  </thead>\n",
       "  <tbody>\n",
       "    <tr>\n",
       "      <th>0</th>\n",
       "      <td>https://i.pinimg.com/736x/17/0d/5b/170d5b93d80...</td>\n",
       "    </tr>\n",
       "    <tr>\n",
       "      <th>1</th>\n",
       "      <td>https://i.pinimg.com/736x/47/b9/9a/47b99a2ddcd...</td>\n",
       "    </tr>\n",
       "    <tr>\n",
       "      <th>2</th>\n",
       "      <td>https://i.pinimg.com/736x/90/e8/90/90e890f054b...</td>\n",
       "    </tr>\n",
       "    <tr>\n",
       "      <th>3</th>\n",
       "      <td>https://i.pinimg.com/736x/0a/71/6f/0a716f6f14e...</td>\n",
       "    </tr>\n",
       "    <tr>\n",
       "      <th>4</th>\n",
       "      <td>https://i.pinimg.com/736x/f1/95/be/f195bea0b78...</td>\n",
       "    </tr>\n",
       "  </tbody>\n",
       "</table>\n",
       "</div>"
      ],
      "text/plain": [
       "                                            pictures\n",
       "0  https://i.pinimg.com/736x/17/0d/5b/170d5b93d80...\n",
       "1  https://i.pinimg.com/736x/47/b9/9a/47b99a2ddcd...\n",
       "2  https://i.pinimg.com/736x/90/e8/90/90e890f054b...\n",
       "3  https://i.pinimg.com/736x/0a/71/6f/0a716f6f14e...\n",
       "4  https://i.pinimg.com/736x/f1/95/be/f195bea0b78..."
      ]
     },
     "execution_count": 2,
     "metadata": {},
     "output_type": "execute_result"
    }
   ],
   "source": [
    "georges = pd.read_csv('georges.csv', header=None, names=['pictures'])\n",
    "georges.head()"
   ]
  },
  {
   "cell_type": "code",
   "execution_count": 3,
   "metadata": {},
   "outputs": [
    {
     "data": {
      "text/html": [
       "<div>\n",
       "<style scoped>\n",
       "    .dataframe tbody tr th:only-of-type {\n",
       "        vertical-align: middle;\n",
       "    }\n",
       "\n",
       "    .dataframe tbody tr th {\n",
       "        vertical-align: top;\n",
       "    }\n",
       "\n",
       "    .dataframe thead th {\n",
       "        text-align: right;\n",
       "    }\n",
       "</style>\n",
       "<table border=\"1\" class=\"dataframe\">\n",
       "  <thead>\n",
       "    <tr style=\"text-align: right;\">\n",
       "      <th></th>\n",
       "      <th>pictures</th>\n",
       "    </tr>\n",
       "  </thead>\n",
       "  <tbody>\n",
       "    <tr>\n",
       "      <th>0</th>\n",
       "      <td>https://i.pinimg.com/736x/fd/65/bb/fd65bb679b7...</td>\n",
       "    </tr>\n",
       "    <tr>\n",
       "      <th>1</th>\n",
       "      <td>https://i.pinimg.com/736x/78/63/a2/7863a2404af...</td>\n",
       "    </tr>\n",
       "    <tr>\n",
       "      <th>2</th>\n",
       "      <td>https://i.pinimg.com/736x/bc/3a/f4/bc3af41444c...</td>\n",
       "    </tr>\n",
       "    <tr>\n",
       "      <th>3</th>\n",
       "      <td>https://i.pinimg.com/736x/46/a3/59/46a3595eec7...</td>\n",
       "    </tr>\n",
       "    <tr>\n",
       "      <th>4</th>\n",
       "      <td>https://i.pinimg.com/736x/54/b2/ef/54b2ef7af71...</td>\n",
       "    </tr>\n",
       "  </tbody>\n",
       "</table>\n",
       "</div>"
      ],
      "text/plain": [
       "                                            pictures\n",
       "0  https://i.pinimg.com/736x/fd/65/bb/fd65bb679b7...\n",
       "1  https://i.pinimg.com/736x/78/63/a2/7863a2404af...\n",
       "2  https://i.pinimg.com/736x/bc/3a/f4/bc3af41444c...\n",
       "3  https://i.pinimg.com/736x/46/a3/59/46a3595eec7...\n",
       "4  https://i.pinimg.com/736x/54/b2/ef/54b2ef7af71..."
      ]
     },
     "execution_count": 3,
     "metadata": {},
     "output_type": "execute_result"
    }
   ],
   "source": [
    "non_georges = pd.read_csv('non_georges.csv', header=None, names=['pictures'])\n",
    "non_georges.head()"
   ]
  },
  {
   "cell_type": "code",
   "execution_count": 4,
   "metadata": {},
   "outputs": [
    {
     "name": "stdout",
     "output_type": "stream",
     "text": [
      "2681\n",
      "https://i.pinimg.com/736x/17/0d/5b/170d5b93d80d247be60f22ca1216bef7.jpg\n"
     ]
    }
   ],
   "source": [
    "print(georges.shape[0])\n",
    "print(georges.pictures[0])"
   ]
  },
  {
   "cell_type": "markdown",
   "metadata": {},
   "source": [
    "В начале все фотографии были загружены на диск, для удобного к ним обращения"
   ]
  },
  {
   "cell_type": "code",
   "execution_count": 5,
   "metadata": {},
   "outputs": [],
   "source": [
    "# for i in range(georges.shape[0]):\n",
    "#     tf.keras.utils.get_file('georges-' + str(i) + '.jpg',\n",
    "#                             origin = georges.pictures[i],\n",
    "#                             cache_dir='D:\\VSCodePrograms\\DataScience\\hobby\\learningCV\\georges'\n",
    "#                             )"
   ]
  },
  {
   "cell_type": "code",
   "execution_count": 6,
   "metadata": {},
   "outputs": [
    {
     "name": "stdout",
     "output_type": "stream",
     "text": [
      "3366\n",
      "https://i.pinimg.com/736x/fd/65/bb/fd65bb679b7975ab73867d62fba2e991.jpg\n"
     ]
    }
   ],
   "source": [
    "print(non_georges.shape[0])\n",
    "print(non_georges.pictures[0])"
   ]
  },
  {
   "cell_type": "code",
   "execution_count": 7,
   "metadata": {},
   "outputs": [],
   "source": [
    "# for i in range(non_georges.shape[0]):\n",
    "#     tf.keras.utils.get_file('bad' + str(i) + '.jpg',\n",
    "#                             origin = non_georges.pictures[i],\n",
    "#                             cache_dir='D:\\VSCodePrograms\\DataScience\\hobby\\learningCV\\georges'\n",
    "#                             )"
   ]
  },
  {
   "cell_type": "code",
   "execution_count": 8,
   "metadata": {},
   "outputs": [],
   "source": [
    "from imageio import imread\n",
    "from skimage.transform import resize\n",
    "from sklearn.svm import SVC\n",
    "from keras.preprocessing.image import load_img\n",
    "from keras.preprocessing.image import img_to_array\n",
    "from keras.applications.vgg16 import preprocess_input\n",
    "from glob import glob"
   ]
  },
  {
   "cell_type": "markdown",
   "metadata": {},
   "source": [
    "Дальше формировались датасеты для модели распознавания.\n",
    "1. Необходимо было перевести фотографии в численный вид. (для каждого пикселя RGB код)\n",
    "2. Для быстрой работы решено было изменить размер фото к 32 на 32 пикселя."
   ]
  },
  {
   "cell_type": "code",
   "execution_count": 9,
   "metadata": {},
   "outputs": [],
   "source": [
    "def dir_to_dataset(glob_files):\n",
    "    print(\"Gonna process:\\n\\t %s\"%glob_files)\n",
    "    dataset = []\n",
    "    for file_count, file_name in enumerate( sorted(glob(glob_files),key=len) ):\n",
    "        pixels = process_image(file_name)\n",
    "        dataset.append(pixels)\n",
    "        if file_count % 1000 == 0:\n",
    "            print(\"\\t %s files processed\"%file_count)\n",
    "    return np.array(dataset)"
   ]
  },
  {
   "cell_type": "code",
   "execution_count": 10,
   "metadata": {},
   "outputs": [],
   "source": [
    "# Загрузка и обработка изображения\n",
    "def preprocess_image(fname):\n",
    "    # load an image from file\n",
    "    image = load_img(fname, target_size=(224, 224))\n",
    "    # convert the image pixels to a numpy array\n",
    "    image = img_to_array(image)\n",
    "    # reshape data for the model\n",
    "    image = image.reshape((image.shape[0], image.shape[1], image.shape[2]))\n",
    "    # prepare the image for the VGG model\n",
    "    img1 = preprocess_input(image)\n",
    "    return img1\n",
    "\n",
    "def process_image(fname):\n",
    "    img1 = preprocess_image(fname)\n",
    "    img1 = resize(img1, (32, 32)) # in 1 version with crash resize(img1, (224, 224))\n",
    "    return(img1)\n"
   ]
  },
  {
   "cell_type": "code",
   "execution_count": 11,
   "metadata": {},
   "outputs": [
    {
     "name": "stdout",
     "output_type": "stream",
     "text": [
      "Gonna process:\n",
      "\t D:\\VSCodePrograms\\DataScience\\hobby\\learningCV\\georges\\datasets\\georges*.jpg\n",
      "\t 0 files processed\n",
      "\t 1000 files processed\n",
      "\t 2000 files processed\n",
      "Gonna process:\n",
      "\t D:\\VSCodePrograms\\DataScience\\hobby\\learningCV\\georges\\datasets\\bad*.jpg\n",
      "\t 0 files processed\n",
      "\t 1000 files processed\n",
      "\t 2000 files processed\n",
      "\t 3000 files processed\n",
      "(2681, 32, 32, 3)\n",
      "(3366, 32, 32, 3)\n"
     ]
    }
   ],
   "source": [
    "georgs_dataset = dir_to_dataset('D:\\VSCodePrograms\\DataScience\\hobby\\learningCV\\georges\\\\datasets\\\\georges*.jpg')\n",
    "another_dataset = dir_to_dataset('D:\\VSCodePrograms\\DataScience\\hobby\\learningCV\\georges\\\\datasets\\\\bad*.jpg')\n",
    "print(georgs_dataset.shape)\n",
    "print(another_dataset.shape)"
   ]
  },
  {
   "cell_type": "markdown",
   "metadata": {},
   "source": [
    "Так как нужен ответ типа классификации, то у внешнего слоя нейронной сети будет два выхода (есть Георгий или нет). Тестовые метки для такой модели мы должны также разложить на 2 столбика"
   ]
  },
  {
   "cell_type": "code",
   "execution_count": 12,
   "metadata": {},
   "outputs": [
    {
     "name": "stdout",
     "output_type": "stream",
     "text": [
      "(2681, 2)\n",
      "[[1 0]\n",
      " [1 0]\n",
      " [1 0]\n",
      " [1 0]\n",
      " [1 0]]\n"
     ]
    }
   ],
   "source": [
    "y1 = np.array([[1, 0] for i in range(georges.shape[0])])\n",
    "y2 = np.array([[0, 1] for i in range(non_georges.shape[0])])\n",
    "print(y1.shape)\n",
    "print(y1[0:5])"
   ]
  },
  {
   "cell_type": "markdown",
   "metadata": {},
   "source": [
    "При создании модели за пример бралась модель из статьи https://medium.com/@ppleskov/%D0%BC%D0%B0%D1%88%D0%B8%D0%BD%D0%BD%D0%BE%D0%B5-%D0%BE%D0%B1%D1%83%D1%87%D0%B5%D0%BD%D0%B8%D0%B5-%D1%8D%D1%82%D0%BE-%D0%B2%D0%B5%D1%81%D0%B5%D0%BB%D0%BE-%D1%87%D0%B0%D1%81%D1%82%D1%8C-3-941a44bc6896\n",
    "Модель искала птиц по фотографиям"
   ]
  },
  {
   "cell_type": "code",
   "execution_count": 13,
   "metadata": {},
   "outputs": [
    {
     "name": "stdout",
     "output_type": "stream",
     "text": [
      "WARNING:tensorflow:From D:\\ProgramData\\Anaconda3\\lib\\site-packages\\tensorflow\\python\\compat\\v2_compat.py:96: disable_resource_variables (from tensorflow.python.ops.variable_scope) is deprecated and will be removed in a future version.\n",
      "Instructions for updating:\n",
      "non-resource variables are not supported in the long term\n",
      "curses is not supported on this machine (please install/reinstall curses for an optimal experience)\n"
     ]
    }
   ],
   "source": [
    "import tflearn\n",
    "\n",
    "from tflearn.data_utils import shuffle\n",
    "from tflearn.layers.core import input_data, dropout, fully_connected\n",
    "from tflearn.layers.conv import conv_2d, max_pool_2d\n",
    "from tflearn.layers.estimator import regression\n",
    "from tflearn.data_preprocessing import ImagePreprocessing\n",
    "from tflearn.data_augmentation import ImageAugmentation\n",
    "\n",
    "# Make sure the data is normalized\n",
    "img_prep = ImagePreprocessing()\n",
    "img_prep.add_featurewise_zero_center()\n",
    "img_prep.add_featurewise_stdnorm()\n",
    "\n",
    "# Create extra synthetic training data by flipping, rotating and blurring the\n",
    "# images on our data set.\n",
    "img_aug = ImageAugmentation()\n",
    "img_aug.add_random_flip_leftright()\n",
    "img_aug.add_random_rotation(max_angle=25.)\n",
    "img_aug.add_random_blur(sigma_max=3.)"
   ]
  },
  {
   "cell_type": "markdown",
   "metadata": {},
   "source": [
    "Данные разбивались на тестовые и тренировочные, чтобы можно было проверять результат.\n",
    "Примерное отношение 500/3000 = 1/6."
   ]
  },
  {
   "cell_type": "code",
   "execution_count": 14,
   "metadata": {},
   "outputs": [
    {
     "name": "stdout",
     "output_type": "stream",
     "text": [
      "X_train shape =  (5045, 32, 32, 3)\n",
      "Y_train shape =  (5045, 2)\n",
      "X_test shape =  (1000, 32, 32, 3)\n",
      "Y_test shape =  (1000, 2)\n"
     ]
    }
   ],
   "source": [
    "X_train = np.append(georgs_dataset[:-501], another_dataset[:-501], axis=0)\n",
    "print('X_train shape = ', X_train.shape)\n",
    "Y_train = np.append(y1[:-501], y2[:-501], axis=0)\n",
    "print('Y_train shape = ', Y_train.shape)\n",
    "X_test = np.append(georgs_dataset[-501:-1], another_dataset[-501:-1], axis=0)\n",
    "print('X_test shape = ', X_test.shape)\n",
    "Y_test = np.append(y1[-501:-1], y2[-501:-1], axis=0)\n",
    "print('Y_test shape = ', Y_test.shape)"
   ]
  },
  {
   "cell_type": "markdown",
   "metadata": {},
   "source": [
    "## 2. Настройка модели"
   ]
  },
  {
   "cell_type": "code",
   "execution_count": 15,
   "metadata": {},
   "outputs": [
    {
     "name": "stdout",
     "output_type": "stream",
     "text": [
      "WARNING:tensorflow:From D:\\ProgramData\\Anaconda3\\lib\\site-packages\\tflearn\\initializations.py:110: calling UniformUnitScaling.__init__ (from tensorflow.python.ops.init_ops) with dtype is deprecated and will be removed in a future version.\n",
      "Instructions for updating:\n",
      "Call initializer instance with the dtype argument instead of passing it to the constructor\n",
      "WARNING:tensorflow:From D:\\ProgramData\\Anaconda3\\lib\\site-packages\\tensorflow\\python\\util\\deprecation.py:538: UniformUnitScaling.__init__ (from tensorflow.python.ops.init_ops) is deprecated and will be removed in a future version.\n",
      "Instructions for updating:\n",
      "Use tf.initializers.variance_scaling instead with distribution=uniform to get equivalent behavior.\n",
      "WARNING:tensorflow:From D:\\ProgramData\\Anaconda3\\lib\\site-packages\\tflearn\\initializations.py:165: calling TruncatedNormal.__init__ (from tensorflow.python.ops.init_ops) with dtype is deprecated and will be removed in a future version.\n",
      "Instructions for updating:\n",
      "Call initializer instance with the dtype argument instead of passing it to the constructor\n",
      "WARNING:tensorflow:From D:\\ProgramData\\Anaconda3\\lib\\site-packages\\tensorflow\\python\\util\\dispatch.py:201: calling dropout (from tensorflow.python.ops.nn_ops) with keep_prob is deprecated and will be removed in a future version.\n",
      "Instructions for updating:\n",
      "Please use `rate` instead of `keep_prob`. Rate should be set to `rate = 1 - keep_prob`.\n"
     ]
    }
   ],
   "source": [
    "# Define our network architecture:\n",
    "\n",
    "# Input is a 32x32 image with 3 color channels (red, green and blue)\n",
    "network = input_data(shape=[None, 32, 32, 3],\n",
    "                     data_preprocessing=img_prep,\n",
    "                     data_augmentation=img_aug)\n",
    "\n",
    "# Step 1: Convolution\n",
    "network = conv_2d(network, 32, 3, activation='relu')\n",
    "\n",
    "# Step 2: Max pooling\n",
    "network = max_pool_2d(network, 2)\n",
    "\n",
    "# Step 3: Convolution again\n",
    "network = conv_2d(network, 64, 3, activation='relu')\n",
    "\n",
    "# Step 4: Convolution yet again\n",
    "network = conv_2d(network, 64, 3, activation='relu')\n",
    "\n",
    "# Step 5: Max pooling again\n",
    "network = max_pool_2d(network, 2)\n",
    "\n",
    "# Step 6: Fully-connected 512 node neural network\n",
    "network = fully_connected(network, 512, activation='relu')\n",
    "\n",
    "# Step 7: Dropout - throw away some data randomly during training to prevent over-fitting\n",
    "network = dropout(network, 0.5)\n",
    "\n",
    "# Step 8: Fully-connected neural network with two outputs (0=isn't a bird, 1=is a bird) to make the final prediction\n",
    "network = fully_connected(network, 2, activation='softmax')"
   ]
  },
  {
   "cell_type": "code",
   "execution_count": 16,
   "metadata": {},
   "outputs": [],
   "source": [
    "# Tell tflearn how we want to train the network\n",
    "network = regression(network, optimizer='adam',\n",
    "                     loss='categorical_crossentropy',\n",
    "                     learning_rate=0.001)\n",
    "\n",
    "# Wrap the network in a model object\n",
    "model = tflearn.DNN(network, tensorboard_verbose=0, checkpoint_path='georges-classifier2.tfl.ckpt')"
   ]
  },
  {
   "cell_type": "code",
   "execution_count": 17,
   "metadata": {},
   "outputs": [
    {
     "data": {
      "text/plain": [
       "[<tf.Tensor 'TargetsData/Y:0' shape=(?, 2) dtype=float32>]"
      ]
     },
     "execution_count": 17,
     "metadata": {},
     "output_type": "execute_result"
    }
   ],
   "source": [
    "model.targets"
   ]
  },
  {
   "cell_type": "markdown",
   "metadata": {},
   "source": [
    "## 3.Тренировка модели:"
   ]
  },
  {
   "cell_type": "code",
   "execution_count": 18,
   "metadata": {},
   "outputs": [
    {
     "name": "stdout",
     "output_type": "stream",
     "text": [
      "Training Step: 7899  | total loss: \u001b[1m\u001b[32m0.29449\u001b[0m\u001b[0m | time: 8.004s\n",
      "| Adam | epoch: 100 | loss: 0.29449 - acc: 0.9195 -- iter: 4992/5045\n",
      "Training Step: 7900  | total loss: \u001b[1m\u001b[32m0.27529\u001b[0m\u001b[0m | time: 9.111s\n",
      "| Adam | epoch: 100 | loss: 0.27529 - acc: 0.9244 | val_loss: 0.58977 - val_acc: 0.8350 -- iter: 5045/5045\n",
      "--\n",
      "INFO:tensorflow:D:\\VSCodePrograms\\DataScience\\hobby\\learningCV\\georges-classifier2.tfl.ckpt-7900 is not in all_model_checkpoint_paths. Manually adding it.\n"
     ]
    }
   ],
   "source": [
    "# Train it! We'll do 100 training passes and monitor it as it goes.\n",
    "model.fit(X_train, Y_train, n_epoch=100, shuffle=True, validation_set=(X_test, Y_test),\n",
    "          show_metric=True, # batch_size=96 in example,\n",
    "          snapshot_epoch=True,\n",
    "          run_id='georges-classifier2')"
   ]
  },
  {
   "cell_type": "code",
   "execution_count": 19,
   "metadata": {},
   "outputs": [
    {
     "name": "stdout",
     "output_type": "stream",
     "text": [
      "INFO:tensorflow:D:\\VSCodePrograms\\DataScience\\hobby\\learningCV\\georges-classifier2.tfl is not in all_model_checkpoint_paths. Manually adding it.\n",
      "Network trained and saved as georges-classifier2.tfl!\n"
     ]
    }
   ],
   "source": [
    "# Save model when training is complete to a file\n",
    "model.save(\"georges-classifier2.tfl\")\n",
    "print(\"Network trained and saved as georges-classifier2.tfl!\")"
   ]
  },
  {
   "cell_type": "markdown",
   "metadata": {},
   "source": [
    "За 100 проходов мы получили тоность около 92%. Если теперь пердсказать данные по нашим меткам, \n",
    "то получим степени уверенности нашей модели к принадлежности фото к каждой из категорий. "
   ]
  },
  {
   "cell_type": "code",
   "execution_count": 20,
   "metadata": {},
   "outputs": [
    {
     "name": "stdout",
     "output_type": "stream",
     "text": [
      "(1000, 2)\n",
      "Прогноз по фотографиям, где есть Георгий\n",
      "[[4.6529731e-01 5.3470266e-01]\n",
      " [9.9890101e-01 1.0990294e-03]\n",
      " [1.0000000e+00 1.8241742e-08]\n",
      " [9.9999130e-01 8.6628515e-06]\n",
      " [1.0000000e+00 7.1292382e-12]\n",
      " [1.0000000e+00 1.3869414e-11]\n",
      " [1.0000000e+00 1.0977859e-09]\n",
      " [4.3966930e-02 9.5603305e-01]\n",
      " [9.9398428e-01 6.0157045e-03]\n",
      " [9.9997473e-01 2.5331055e-05]]\n",
      "Прогноз по фотографиям, где нет Георгия\n",
      "[[2.1295625e-01 7.8704375e-01]\n",
      " [2.4381552e-03 9.9756181e-01]\n",
      " [2.3184586e-02 9.7681534e-01]\n",
      " [4.3831907e-02 9.5616812e-01]\n",
      " [8.2606397e-04 9.9917394e-01]\n",
      " [6.2121820e-01 3.7878171e-01]\n",
      " [4.7086412e-01 5.2913588e-01]\n",
      " [5.4555263e-02 9.4544476e-01]\n",
      " [3.3116963e-02 9.6688306e-01]\n",
      " [9.2100265e-04 9.9907899e-01]]\n",
      "Тестовые метки для тех же данных:\n",
      "[[1 0]\n",
      " [1 0]\n",
      " [1 0]\n",
      " [1 0]\n",
      " [1 0]\n",
      " [1 0]\n",
      " [1 0]\n",
      " [1 0]\n",
      " [1 0]\n",
      " [1 0]]\n",
      "[[0 1]\n",
      " [0 1]\n",
      " [0 1]\n",
      " [0 1]\n",
      " [0 1]\n",
      " [0 1]\n",
      " [0 1]\n",
      " [0 1]\n",
      " [0 1]\n",
      " [0 1]]\n"
     ]
    }
   ],
   "source": [
    "result_y = model.predict(X_test)\n",
    "print(result_y.shape)\n",
    "print('Прогноз по фотографиям, где есть Георгий')\n",
    "print(result_y[70:80])\n",
    "print('Прогноз по фотографиям, где нет Георгия')\n",
    "print(result_y[800:810])\n",
    "np.unique(result_y, axis=0)\n",
    "print('Тестовые метки для тех же данных:')\n",
    "print(Y_test[70:80])\n",
    "print(Y_test[800:810])"
   ]
  },
  {
   "cell_type": "code",
   "execution_count": null,
   "metadata": {},
   "outputs": [],
   "source": []
  }
 ],
 "metadata": {
  "kernelspec": {
   "display_name": "Python 3",
   "language": "python",
   "name": "python3"
  },
  "language_info": {
   "codemirror_mode": {
    "name": "ipython",
    "version": 3
   },
   "file_extension": ".py",
   "mimetype": "text/x-python",
   "name": "python",
   "nbconvert_exporter": "python",
   "pygments_lexer": "ipython3",
   "version": "3.7.0"
  }
 },
 "nbformat": 4,
 "nbformat_minor": 4
}
